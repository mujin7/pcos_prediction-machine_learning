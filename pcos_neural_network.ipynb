{
 "cells": [
  {
   "cell_type": "markdown",
   "id": "f770087c-d022-45c8-8a13-f408dfbde9f0",
   "metadata": {},
   "source": [
    "# import libraries"
   ]
  },
  {
   "cell_type": "code",
   "execution_count": 1,
   "id": "56449696-49a1-4c76-b181-73ca563d76a2",
   "metadata": {},
   "outputs": [],
   "source": [
    "import matplotlib.pyplot as plt\n",
    "import seaborn as sns\n",
    "import numpy as np\n",
    "import pandas as pd\n",
    "from sklearn.preprocessing import StandardScaler\n",
    "from sklearn.model_selection import train_test_split\n",
    "from sklearn.metrics import confusion_matrix, accuracy_score,classification_report\n",
    "import pickle\n",
    "import torch\n",
    "from torch import nn\n",
    "from torch.utils.data import Dataset,DataLoader,TensorDataset\n",
    "import torch.optim as optim"
   ]
  },
  {
   "cell_type": "markdown",
   "id": "e4042907-6020-4a91-91ef-a1a0c8b64a09",
   "metadata": {},
   "source": [
    "# load data"
   ]
  },
  {
   "cell_type": "code",
   "execution_count": 2,
   "id": "4a956c97-5290-4b9f-b6e6-dff6aee06397",
   "metadata": {},
   "outputs": [],
   "source": [
    "data_clean = pd.read_csv(open(\"data_tidy.csv\",'rb'))\n",
    "\n",
    "X = data_clean.iloc[:,2:]\n",
    "y = data_clean.iloc[:,1]\n",
    "X_train,X_test, y_train, y_test = train_test_split(X,y, test_size=0.3,random_state = 36) \n",
    "sc = StandardScaler()\n",
    "X_train = sc.fit_transform(X_train)\n",
    "X_test = sc.transform(X_test)"
   ]
  },
  {
   "cell_type": "markdown",
   "id": "6a0900b5-c262-46b5-b3fd-681a25c400bf",
   "metadata": {},
   "source": [
    "# Neural Network"
   ]
  },
  {
   "cell_type": "code",
   "execution_count": 3,
   "id": "ee57d46a-fb5e-4f8f-9eba-6ad16783ba85",
   "metadata": {},
   "outputs": [],
   "source": [
    "X_train_tensor = torch.FloatTensor(X_train)\n",
    "y_train_tensor = torch.FloatTensor(y_train).view(-1,1)\n",
    "X_test_tensor = torch.FloatTensor(X_test)\n",
    "y_test_tensor = torch.FloatTensor(np.array(y_test)).view(-1,1)\n",
    "\n",
    "train_dataset = TensorDataset(X_train_tensor, y_train_tensor)\n",
    "train_loader = DataLoader(train_dataset, batch_size=32, shuffle=True)\n",
    "test_dataset = TensorDataset(X_test_tensor, y_test_tensor)\n",
    "test_loader = DataLoader(test_dataset, batch_size=32, shuffle=True)"
   ]
  },
  {
   "cell_type": "code",
   "execution_count": 4,
   "id": "f2c8a7a2-591f-4a00-a600-173220f9ecef",
   "metadata": {},
   "outputs": [],
   "source": [
    "device = 'cpu'\n",
    "class NeuralNetwork(nn.Module):\n",
    "    def __init__(self):\n",
    "        super(NeuralNetwork,self).__init__()\n",
    "        self.fc1 = nn.Linear(38, 64)  # 输入层到隐藏层\n",
    "        self.fc2 = nn.Linear(64, 64)   # 隐藏层到隐藏层\n",
    "        self.fc3 = nn.Linear(64, 1)    # 隐藏层到输出层\n",
    "        self.relu = nn.ReLU()\n",
    "        self.sigmoid = nn.Sigmoid()\n",
    "\n",
    "    def forward(self, x):\n",
    "        x = self.relu(self.fc1(x))\n",
    "        x = self.relu(self.fc2(x))\n",
    "        x = self.sigmoid(self.fc3(x))\n",
    "        return x\n",
    "\n",
    "model = NeuralNetwork().to(device)"
   ]
  },
  {
   "cell_type": "code",
   "execution_count": 5,
   "id": "b74a0f39-4653-44ac-ad36-4a63a2482849",
   "metadata": {},
   "outputs": [
    {
     "name": "stdout",
     "output_type": "stream",
     "text": [
      "Epoch [1/10], Loss: 7.9897\n",
      "Epoch [2/10], Loss: 7.2247\n",
      "Epoch [3/10], Loss: 6.1951\n",
      "Epoch [4/10], Loss: 4.9927\n",
      "Epoch [5/10], Loss: 4.0439\n",
      "Epoch [6/10], Loss: 3.2745\n",
      "Epoch [7/10], Loss: 2.8737\n",
      "Epoch [8/10], Loss: 2.5172\n",
      "Epoch [9/10], Loss: 2.2735\n",
      "Epoch [10/10], Loss: 2.0778\n"
     ]
    }
   ],
   "source": [
    "model = NeuralNetwork()\n",
    "criterion = nn.BCELoss()  # 二元交叉熵损失\n",
    "optimizer = optim.Adam(model.parameters(), lr=0.001)\n",
    "\n",
    "num_epochs = 10\n",
    "for epoch in range(num_epochs):\n",
    "    total_loss = 0\n",
    "    for inputs, labels in train_loader:\n",
    "        optimizer.zero_grad()  # 清零梯度\n",
    "        outputs = model(inputs)  # 前向传播\n",
    "        loss = criterion(outputs, labels)  # 计算损失\n",
    "        loss.backward()  # 反向传播\n",
    "        optimizer.step()  # 更新参数\n",
    "        total_loss += loss.item()\n",
    "\n",
    "    print(f'Epoch [{epoch + 1}/{num_epochs}], Loss: {total_loss:.4f}')"
   ]
  },
  {
   "cell_type": "markdown",
   "id": "c923777c-b749-4206-8c14-2ea610deda23",
   "metadata": {},
   "source": [
    "# 评估模型"
   ]
  },
  {
   "cell_type": "code",
   "execution_count": 6,
   "id": "cfd000b5-594f-470e-8e86-f61727a870f3",
   "metadata": {},
   "outputs": [
    {
     "name": "stdout",
     "output_type": "stream",
     "text": [
      "Test accuracy: 0.9321\n"
     ]
    }
   ],
   "source": [
    "with torch.no_grad():\n",
    "    model.eval()  # 切换到评估模式\n",
    "    test_outputs = model(X_test_tensor)\n",
    "    predicted = (test_outputs > 0.5).float()  # 将输出转换为0或1\n",
    "    accuracy = (predicted.eq(y_test_tensor).sum().item()) / y_test_tensor.size(0)\n",
    "    print(f'Test accuracy: {accuracy:.4f}')"
   ]
  }
 ],
 "metadata": {
  "kernelspec": {
   "display_name": "Python 3 (ipykernel)",
   "language": "python",
   "name": "python3"
  },
  "language_info": {
   "codemirror_mode": {
    "name": "ipython",
    "version": 3
   },
   "file_extension": ".py",
   "mimetype": "text/x-python",
   "name": "python",
   "nbconvert_exporter": "python",
   "pygments_lexer": "ipython3",
   "version": "3.8.18"
  }
 },
 "nbformat": 4,
 "nbformat_minor": 5
}
